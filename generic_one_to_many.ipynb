{
  "cells": [
    {
      "cell_type": "markdown",
      "metadata": {
        "id": "view-in-github",
        "colab_type": "text"
      },
      "source": [
        "<a href=\"https://colab.research.google.com/github/real-rookie/novelty-detection-algorithms-evaluation/blob/main/generic_one_to_many.ipynb\" target=\"_parent\"><img src=\"https://colab.research.google.com/assets/colab-badge.svg\" alt=\"Open In Colab\"/></a>"
      ]
    },
    {
      "cell_type": "code",
      "execution_count": null,
      "metadata": {
        "id": "yEar3q8DHcZI"
      },
      "outputs": [],
      "source": [
        "# env\n",
        "!pip install lightning\n",
        "!pip install anomalib\n",
        "!pip install OpenVINO\n",
        "!pip install wandb"
      ]
    },
    {
      "cell_type": "code",
      "execution_count": null,
      "metadata": {
        "id": "GkEZzi7WLsMj"
      },
      "outputs": [],
      "source": [
        "# unzip code and datasets\n",
        "!unzip -o /content/drive/MyDrive/novelty-detection-algorithms-evaluation.zip -d /home/\n",
        "%cd /home"
      ]
    },
    {
      "cell_type": "code",
      "execution_count": null,
      "metadata": {
        "id": "UkWjFmPfIM1T"
      },
      "outputs": [],
      "source": [
        "from torchvision import datasets\n",
        "from torchvision.transforms import ToTensor\n",
        "from torchvision.utils import save_image\n",
        "import os\n",
        "import random\n",
        "import numpy as np"
      ]
    },
    {
      "cell_type": "code",
      "execution_count": null,
      "metadata": {
        "id": "ar1IxM5TNDEh"
      },
      "outputs": [],
      "source": [
        "# set parameters\n",
        "DATASET_INFO = {\n",
        "    # idx 0: paths, idx 1: number of classes\n",
        "    \"MNIST\": [\"datasets/MNIST/images\", 10],\n",
        "    \"FashionMNIST\": [\"datasets/FashionMNIST/images\", 10],\n",
        "    \"CIFAR10\": [\"datasets/CIFAR10/images\", 10],\n",
        "}\n",
        "dataset = \"MNIST\"\n",
        "dataset_path = DATASET_INFO[dataset][0]\n",
        "num_total_classes = DATASET_INFO[dataset][1]\n",
        "normal_weight = 0.5 # proportion of normal samples in the test sets"
      ]
    },
    {
      "cell_type": "code",
      "execution_count": null,
      "metadata": {
        "id": "4voDx-W4NEXv"
      },
      "outputs": [],
      "source": [
        "# make datasets\n",
        "%cd /home\n",
        "os.system(f\"rm -rf {dataset_path}\")\n",
        "for i in range(num_total_classes):\n",
        "    os.system(f\"mkdir -p {dataset_path}/train/{i}\")\n",
        "    os.system(f\"mkdir -p {dataset_path}/categorized_test_cases/{i}\")\n",
        "    os.system(f\"mkdir -p {dataset_path}/test/{i}/normal\")\n",
        "    os.system(f\"mkdir -p {dataset_path}/test/{i}/novel\")"
      ]
    },
    {
      "cell_type": "code",
      "execution_count": null,
      "metadata": {
        "id": "h0bdti_qacfm"
      },
      "outputs": [],
      "source": [
        "train_data = None\n",
        "test_data = None\n",
        "if dataset == \"MNIST\":\n",
        "    train_data = datasets.MNIST(root=\"datasets\", train=True, download=True, transform=ToTensor())\n",
        "    test_data = datasets.MNIST(root=\"datasets\", train=False, download=True, transform=ToTensor())\n",
        "elif dataset == \"FashionMNIST\":\n",
        "    train_data = datasets.FashionMNIST(root=\"datasets\", train=True, download=True, transform=ToTensor())\n",
        "    test_data = datasets.FashionMNIST(root=\"datasets\", train=False, download=True, transform=ToTensor())\n",
        "elif dataset == \"CIFAR10\":\n",
        "    train_data = datasets.CIFAR10(root=\"datasets/CIFAR10\", train=True, download=True, transform=ToTensor())\n",
        "    test_data = datasets.CIFAR10(root=\"datasets/CIFAR10\", train=False, download=True, transform=ToTensor())\n",
        "else:\n",
        "    print(\"Wrong dataset specified\")\n",
        "    os.abort()"
      ]
    },
    {
      "cell_type": "code",
      "execution_count": null,
      "metadata": {
        "id": "kVKK0aR7Ile1"
      },
      "outputs": [],
      "source": [
        "train_counter = np.zeros(num_total_classes, dtype=int)\n",
        "test_counter = np.zeros(num_total_classes, dtype=int)\n",
        "for img, label in train_data:\n",
        "    save_image(img, f\"{dataset_path}/train/{label}/{label}_{train_counter[label]}.png\")\n",
        "    train_counter[label] += 1\n",
        "for img, label in test_data:\n",
        "    save_image(img, f\"{dataset_path}/categorized_test_cases/{label}/{label}_{test_counter[label]}.png\")\n",
        "    test_counter[label] += 1\n",
        "print(f\"train: {train_counter}\")\n",
        "print(f\"test: {test_counter}\")"
      ]
    },
    {
      "cell_type": "code",
      "execution_count": null,
      "metadata": {
        "id": "8aQoYj8RXWdE"
      },
      "outputs": [],
      "source": [
        "def fill_test_sets(population, num_samples, src_cls, dest_cls):\n",
        "    sample_idx = random.sample(range(population), num_samples)\n",
        "    folder_type = \"normal\" if src_cls == dest_cls else \"novel\"\n",
        "    src_set = None\n",
        "    dest_set = None\n",
        "    for index in sample_idx:\n",
        "            os.system(f\"cp {dataset_path}/categorized_test_cases/{src_cls}/{src_cls}_{index}.png {dataset_path}/test/{dest_cls}/{folder_type}\")\n",
        "\n",
        "for normal in range(num_total_classes):\n",
        "    random.seed(normal)\n",
        "\n",
        "    # test normal\n",
        "    num_normal_test_samples = np.floor(test_counter[normal] * normal_weight).astype(int)\n",
        "    fill_test_sets(test_counter[normal], num_normal_test_samples, normal, normal)\n",
        "\n",
        "    num_novel_test_from_each_class = np.floor((test_counter[normal] - num_normal_test_samples) / (num_total_classes - 1)).astype(int)\n",
        "    for novel in range(num_total_classes):\n",
        "        if(novel == normal):\n",
        "            continue\n",
        "        # test novel\n",
        "        fill_test_sets(test_counter[novel], num_novel_test_from_each_class, novel, normal)\n"
      ]
    },
    {
      "cell_type": "code",
      "execution_count": null,
      "metadata": {
        "id": "Z0FG2ET9Mp2w"
      },
      "outputs": [],
      "source": [
        "# training and testing\n",
        "%cd /home/novelty-detection-algorithms-evaluation\n",
        "!python generic_one_to_many.py --mode train --data MNIST --model RD4AD"
      ]
    },
    {
      "cell_type": "code",
      "execution_count": null,
      "metadata": {
        "id": "1nCn6ozguXqP"
      },
      "outputs": [],
      "source": [
        "!python generic_one_to_many.py --mode test --data MNIST --model RD4AD"
      ]
    }
  ],
  "metadata": {
    "accelerator": "GPU",
    "colab": {
      "machine_shape": "hm",
      "provenance": [],
      "gpuType": "A100",
      "mount_file_id": "157foFEx7xywrDh--HOdSS0IiZJRYRCRN",
      "authorship_tag": "ABX9TyOhHiDB4wQxZoW17Exm8FTG",
      "include_colab_link": true
    },
    "kernelspec": {
      "display_name": "Python 3",
      "name": "python3"
    },
    "language_info": {
      "name": "python"
    }
  },
  "nbformat": 4,
  "nbformat_minor": 0
}