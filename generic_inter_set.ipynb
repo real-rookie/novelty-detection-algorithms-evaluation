{
  "cells": [
    {
      "cell_type": "markdown",
      "metadata": {
        "id": "view-in-github",
        "colab_type": "text"
      },
      "source": [
        "<a href=\"https://colab.research.google.com/github/real-rookie/novelty-detection-algorithms-evaluation/blob/main/generic_inter_set.ipynb\" target=\"_parent\"><img src=\"https://colab.research.google.com/assets/colab-badge.svg\" alt=\"Open In Colab\"/></a>"
      ]
    },
    {
      "cell_type": "code",
      "execution_count": null,
      "metadata": {
        "id": "yEar3q8DHcZI"
      },
      "outputs": [],
      "source": [
        "# env\n",
        "!pip install lightning\n",
        "!pip install anomalib\n",
        "!pip install OpenVINO\n",
        "!pip install wandb"
      ]
    },
    {
      "cell_type": "code",
      "execution_count": null,
      "metadata": {
        "id": "GkEZzi7WLsMj"
      },
      "outputs": [],
      "source": [
        "# unzip code and datasets\n",
        "!unzip -o /content/drive/MyDrive/novelty-detection-algorithms-evaluation.zip -d /home/\n",
        "%cd /home"
      ]
    },
    {
      "cell_type": "code",
      "execution_count": null,
      "metadata": {
        "id": "UkWjFmPfIM1T"
      },
      "outputs": [],
      "source": [
        "from torchvision import datasets\n",
        "from torchvision.transforms import ToTensor\n",
        "from torchvision.utils import save_image\n",
        "import os\n",
        "import random\n",
        "import numpy as np"
      ]
    },
    {
      "cell_type": "code",
      "execution_count": null,
      "metadata": {
        "id": "ar1IxM5TNDEh"
      },
      "outputs": [],
      "source": [
        "# set parameters\n",
        "\n",
        "DATASET_INFO = {\n",
        "    # idx 0: paths, idx 1: number of classes\n",
        "    \"MNIST\": [\"datasets/MNIST/images\", 10],\n",
        "    \"FashionMNIST\": [\"datasets/FashionMNIST/images\", 10],\n",
        "    \"CIFAR10\": [\"datasets/CIFAR10/images\", 10],\n",
        "}\n",
        "\n",
        "dataset = \"CIFAR10\"\n",
        "dataset_path = DATASET_INFO[dataset][0]\n",
        "num_total_classes = DATASET_INFO[dataset][1]"
      ]
    },
    {
      "cell_type": "code",
      "execution_count": null,
      "metadata": {
        "id": "4voDx-W4NEXv"
      },
      "outputs": [],
      "source": [
        "# make datasets\n",
        "%cd /home\n",
        "if dataset in [\"MNIST\", \"FashionMNIST\", \"CIFAR10\"]:\n",
        "    os.system(f\"rm -rf {dataset_path}\")\n",
        "    os.system(f\"mkdir -p {dataset_path}/train\")\n",
        "    os.system(f\"mkdir -p {dataset_path}/test/normal\")\n",
        "    os.system(f\"mkdir -p {dataset_path}/test/novel\")"
      ]
    },
    {
      "cell_type": "code",
      "execution_count": null,
      "metadata": {
        "id": "h0bdti_qacfm"
      },
      "outputs": [],
      "source": [
        "train_data = None\n",
        "test_data = None\n",
        "if dataset == \"MNIST\":\n",
        "    train_data = datasets.MNIST(root=\"datasets\", train=True, download=True, transform=ToTensor())\n",
        "    test_data = datasets.MNIST(root=\"datasets\", train=False, download=True, transform=ToTensor())\n",
        "elif dataset == \"FashionMNIST\":\n",
        "    train_data = datasets.FashionMNIST(root=\"datasets\", train=True, download=True, transform=ToTensor())\n",
        "    test_data = datasets.FashionMNIST(root=\"datasets\", train=False, download=True, transform=ToTensor())\n",
        "elif dataset == \"CIFAR10\":\n",
        "    train_data = datasets.CIFAR10(root=\"datasets/CIFAR10\", train=True, download=True, transform=ToTensor())\n",
        "    test_data = datasets.CIFAR10(root=\"datasets/CIFAR10\", train=False, download=True, transform=ToTensor())\n",
        "else:\n",
        "    print(\"Wrong dataset specified\")\n",
        "    os.abort()"
      ]
    },
    {
      "cell_type": "code",
      "execution_count": null,
      "metadata": {
        "id": "kVKK0aR7Ile1"
      },
      "outputs": [],
      "source": [
        "train_counter = np.zeros(num_total_classes, dtype=int)\n",
        "test_counter = np.zeros(num_total_classes, dtype=int)\n",
        "if dataset in [\"MNIST\", \"FashionMNIST\", \"CIFAR10\"]:\n",
        "    for img, label in train_data:\n",
        "        if label < np.floor(DATASET_INFO[dataset][1] / 2).astype(int):\n",
        "            save_image(img, f\"{dataset_path}/train/{label}_{train_counter[label]}.png\")\n",
        "            train_counter[label] += 1\n",
        "    for img, label in test_data:\n",
        "        if label < np.floor(DATASET_INFO[dataset][1] / 2).astype(int):\n",
        "            save_image(img, f\"{dataset_path}/test/normal/{label}_{test_counter[label]}.png\")\n",
        "        else:\n",
        "            save_image(img, f\"{dataset_path}/test/novel/{label}_{test_counter[label]}.png\")\n",
        "        test_counter[label] += 1\n",
        "print(f\"train: {train_counter}\")\n",
        "print(f\"test: {test_counter}\")"
      ]
    },
    {
      "cell_type": "code",
      "execution_count": null,
      "metadata": {
        "id": "Z0FG2ET9Mp2w"
      },
      "outputs": [],
      "source": [
        "# train and testing\n",
        "%cd /home/novelty-detection-algorithms-evaluation\n",
        "!python generic_inter_set.py --mode train --data CIFAR10 --model RD4AD"
      ]
    },
    {
      "cell_type": "code",
      "execution_count": null,
      "metadata": {
        "id": "Ad0-X0HACBmi"
      },
      "outputs": [],
      "source": [
        "!python generic_inter_set.py --mode test --data CIFAR10 --model RD4AD"
      ]
    }
  ],
  "metadata": {
    "colab": {
      "machine_shape": "hm",
      "provenance": [],
      "gpuType": "A100",
      "mount_file_id": "1ZEU7mg2ZUsAzk14mCpYYoyiKASJhxBpV",
      "authorship_tag": "ABX9TyNUtvE4Ab/0WLNl6tjty4SN",
      "include_colab_link": true
    },
    "kernelspec": {
      "display_name": "Python 3",
      "name": "python3"
    },
    "language_info": {
      "name": "python"
    }
  },
  "nbformat": 4,
  "nbformat_minor": 0
}