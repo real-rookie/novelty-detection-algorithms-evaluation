{
  "cells": [
    {
      "cell_type": "markdown",
      "metadata": {
        "id": "view-in-github",
        "colab_type": "text"
      },
      "source": [
        "<a href=\"https://colab.research.google.com/github/real-rookie/novelty-detection-algorithms-evaluation/blob/main/MVTec-AD_one_to_many.ipynb\" target=\"_parent\"><img src=\"https://colab.research.google.com/assets/colab-badge.svg\" alt=\"Open In Colab\"/></a>"
      ]
    },
    {
      "cell_type": "code",
      "execution_count": null,
      "metadata": {
        "id": "yEar3q8DHcZI"
      },
      "outputs": [],
      "source": [
        "# env\n",
        "!pip install lightning\n",
        "!pip install anomalib\n",
        "!pip install OpenVINO\n",
        "!pip install wandb"
      ]
    },
    {
      "cell_type": "code",
      "source": [
        "import os"
      ],
      "metadata": {
        "id": "HRVoMYmT34sl"
      },
      "execution_count": null,
      "outputs": []
    },
    {
      "cell_type": "code",
      "execution_count": null,
      "metadata": {
        "id": "GkEZzi7WLsMj"
      },
      "outputs": [],
      "source": [
        "# unzip code and dataset\n",
        "!unzip -o /content/drive/MyDrive/novelty-detection-algorithms-evaluation.zip -d /home/\n",
        "!unzip -o /content/drive/MyDrive/MVTec-AD_pure.zip -d /home/datasets/\n",
        "%cd /home"
      ]
    },
    {
      "cell_type": "code",
      "execution_count": null,
      "metadata": {
        "id": "ar1IxM5TNDEh"
      },
      "outputs": [],
      "source": [
        "# set parameters\n",
        "\n",
        "DATASET_INFO = {\n",
        "    # idx 0: paths, idx 1: number of classes\n",
        "    \"MVTec-AD\": [\"datasets/MVTec-AD/images\", 15],\n",
        "}\n",
        "dataset = \"MVTec-AD\"\n",
        "dataset_path = DATASET_INFO[dataset][0]\n",
        "num_total_classes = DATASET_INFO[dataset][1]"
      ]
    },
    {
      "cell_type": "code",
      "source": [
        "%cd /home\n",
        "for i in range(num_total_classes):\n",
        "    os.system(f\"mkdir -p {dataset_path}/test/{i}/normal\")\n",
        "    os.system(f\"mkdir -p {dataset_path}/test/{i}/novel\")"
      ],
      "metadata": {
        "id": "5GKg5Jh4_dMB"
      },
      "execution_count": null,
      "outputs": []
    },
    {
      "cell_type": "code",
      "execution_count": 12,
      "metadata": {
        "id": "8aQoYj8RXWdE"
      },
      "outputs": [],
      "source": [
        "for normal in range(num_total_classes):\n",
        "    os.system(f\"cp {dataset_path}/categorized_test_cases/{normal}/* {dataset_path}/test/{normal}/normal\")\n",
        "    for novel in range(num_total_classes):\n",
        "        if(novel == normal):\n",
        "            continue\n",
        "        os.system(f\"cp {dataset_path}/categorized_test_cases/{novel}/* {dataset_path}/test/{normal}/novel\")"
      ]
    },
    {
      "cell_type": "code",
      "execution_count": null,
      "metadata": {
        "id": "Z0FG2ET9Mp2w"
      },
      "outputs": [],
      "source": [
        "# train and testing\n",
        "%cd /home/novelty-detection-algorithms-evaluation\n",
        "!python MVTec-AD_one_to_many.py --mode train --data MVTec-AD --model RD4AD"
      ]
    },
    {
      "cell_type": "code",
      "execution_count": null,
      "metadata": {
        "id": "Ad0-X0HACBmi"
      },
      "outputs": [],
      "source": [
        "!python MVTec-AD_one_to_many.py --mode test --data MVTec-AD --model RD4AD"
      ]
    }
  ],
  "metadata": {
    "accelerator": "GPU",
    "colab": {
      "machine_shape": "hm",
      "provenance": [],
      "gpuType": "A100",
      "mount_file_id": "1Palf1bXVzpRaJgtmRKEdmZWUywUSSsH0",
      "authorship_tag": "ABX9TyMwAp16E9M2VJu2jUXa+8wP",
      "include_colab_link": true
    },
    "kernelspec": {
      "display_name": "Python 3",
      "name": "python3"
    },
    "language_info": {
      "name": "python"
    }
  },
  "nbformat": 4,
  "nbformat_minor": 0
}