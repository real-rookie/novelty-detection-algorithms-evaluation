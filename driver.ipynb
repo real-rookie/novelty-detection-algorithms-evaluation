{
  "nbformat": 4,
  "nbformat_minor": 0,
  "metadata": {
    "colab": {
      "provenance": [],
      "machine_shape": "hm",
      "gpuType": "A100",
      "mount_file_id": "157foFEx7xywrDh--HOdSS0IiZJRYRCRN",
      "authorship_tag": "ABX9TyOiwCB29htWO9ZFRRoQ1dRQ",
      "include_colab_link": true
    },
    "kernelspec": {
      "name": "python3",
      "display_name": "Python 3"
    },
    "language_info": {
      "name": "python"
    },
    "accelerator": "GPU"
  },
  "cells": [
    {
      "cell_type": "markdown",
      "metadata": {
        "id": "view-in-github",
        "colab_type": "text"
      },
      "source": [
        "<a href=\"https://colab.research.google.com/github/real-rookie/novelty-detection-algorithms-evaluation/blob/main/driver.ipynb\" target=\"_parent\"><img src=\"https://colab.research.google.com/assets/colab-badge.svg\" alt=\"Open In Colab\"/></a>"
      ]
    },
    {
      "cell_type": "code",
      "execution_count": null,
      "metadata": {
        "id": "yEar3q8DHcZI"
      },
      "outputs": [],
      "source": [
        "# env\n",
        "!pip install lightning\n",
        "!pip install anomalib\n",
        "!pip install OpenVINO\n",
        "!pip install wandb"
      ]
    },
    {
      "cell_type": "code",
      "source": [
        "# unzip code and datasets\n",
        "!unzip -o /content/drive/MyDrive/novelty-detection-algorithms-evaluation.zip -d /home/\n",
        "# uncomment one of the following two lines to get the correct MVTec-AD dataset\n",
        "# !unzip -o /content/drive/MyDrive/MVTec-AD_old.zip -d /home/datasets/\n",
        "# !unzip -o /content/drive/MyDrive/MVTec-AD_new.zip -d /home/datasets/\n",
        "%cd /home"
      ],
      "metadata": {
        "id": "GkEZzi7WLsMj"
      },
      "execution_count": null,
      "outputs": []
    },
    {
      "cell_type": "code",
      "source": [
        "from torchvision import datasets\n",
        "from torchvision.transforms import ToTensor\n",
        "from torchvision.utils import save_image\n",
        "import os\n",
        "import random\n",
        "import numpy as np"
      ],
      "metadata": {
        "id": "UkWjFmPfIM1T"
      },
      "execution_count": null,
      "outputs": []
    },
    {
      "cell_type": "code",
      "source": [
        "# set parameters\n",
        "\n",
        "DATASET_INFO = {\n",
        "    # idx 0: paths, idx 1: number of classes\n",
        "    \"MNIST\": [\"datasets/MNIST/images\", 10],\n",
        "    \"FashionMNIST\": [\"datasets/FashionMNIST/images\", 10],\n",
        "    \"CIFAR10\": [\"datasets/CIFAR10/images\", 10],\n",
        "    \"MVTec-AD\": [\"datasets/MVTec-AD/images\", 15],\n",
        "}\n",
        "\n",
        "dataset = \"MNIST\"\n",
        "MVTecAD_set_type = \"new\" # new or old, applies to MVTec-AD only\n",
        "dataset_path = DATASET_INFO[dataset][0]\n",
        "num_total_classes = DATASET_INFO[dataset][1]\n",
        "small_datasets = True # not used yet\n",
        "normal_weight = 0.5 # proportion of normal samples in the test and cv sets\n",
        "cv_weight = 0.20 # proportion of samples in original training sets used to form cv sets"
      ],
      "metadata": {
        "id": "ar1IxM5TNDEh"
      },
      "execution_count": null,
      "outputs": []
    },
    {
      "cell_type": "code",
      "source": [
        "# make datasets\n",
        "%cd /home\n",
        "if dataset in [\"MNIST\", \"FashionMNIST\", \"CIFAR10\"]:\n",
        "    os.system(f\"rm -rf {dataset_path}\")\n",
        "    for i in range(num_total_classes):\n",
        "        os.system(f\"mkdir -p {dataset_path}/train/{i}\")\n",
        "        os.system(f\"mkdir -p {dataset_path}/cv/{i}/normal\")\n",
        "        os.system(f\"mkdir -p {dataset_path}/cv/{i}/novel\")\n",
        "        os.system(f\"mkdir -p {dataset_path}/categorized_test_cases/{i}\")\n",
        "        os.system(f\"mkdir -p {dataset_path}/test/{i}/normal\")\n",
        "        os.system(f\"mkdir -p {dataset_path}/test/{i}/novel\")\n",
        "elif dataset == \"MVTec-AD\":\n",
        "    pass"
      ],
      "metadata": {
        "id": "4voDx-W4NEXv"
      },
      "execution_count": null,
      "outputs": []
    },
    {
      "cell_type": "code",
      "source": [
        "train_data = None\n",
        "test_data = None\n",
        "if dataset == \"MNIST\":\n",
        "    train_data = datasets.MNIST(root=\"datasets\", train=True, download=True, transform=ToTensor())\n",
        "    test_data = datasets.MNIST(root=\"datasets\", train=False, download=True, transform=ToTensor())\n",
        "elif dataset == \"FashionMNIST\":\n",
        "    train_data = datasets.FashionMNIST(root=\"datasets\", train=True, download=True, transform=ToTensor())\n",
        "    test_data = datasets.FashionMNIST(root=\"datasets\", train=False, download=True, transform=ToTensor())\n",
        "elif dataset == \"CIFAR10\":\n",
        "    train_data = datasets.CIFAR10(root=\"datasets/CIFAR10\", train=True, download=True, transform=ToTensor())\n",
        "    test_data = datasets.CIFAR10(root=\"datasets/CIFAR10\", train=False, download=True, transform=ToTensor())\n",
        "elif dataset == \"MVTec-AD\":\n",
        "    train_data = None\n",
        "    test_data = None\n",
        "else:\n",
        "    print(\"Wrong dataset specified\")\n",
        "    os.abort()"
      ],
      "metadata": {
        "id": "h0bdti_qacfm"
      },
      "execution_count": null,
      "outputs": []
    },
    {
      "cell_type": "code",
      "source": [
        "train_counter = np.zeros(num_total_classes, dtype=int)\n",
        "test_counter = np.zeros(num_total_classes, dtype=int)\n",
        "if dataset in [\"MNIST\", \"FashionMNIST\", \"CIFAR10\"]:\n",
        "    for img, label in train_data:\n",
        "        save_image(img, f\"{dataset_path}/train/{label}/{label}_{train_counter[label]}.png\")\n",
        "        train_counter[label] += 1\n",
        "    for img, label in test_data:\n",
        "        save_image(img, f\"{dataset_path}/categorized_test_cases/{label}/{label}_{test_counter[label]}.png\")\n",
        "        test_counter[label] += 1\n",
        "elif dataset == \"MVTec-AD\":\n",
        "    train_counter = np.array([280, 264, 245, 230, 247, 209, 224, 219, 391, 220, 267, 320, 60, 213, 240])\n",
        "    test_counter = np.array([28, 21, 32, 33, 19, 20, 58, 23, 40, 22, 26, 41, 12, 60, 32])\n",
        "print(f\"train + cv: {train_counter}\")\n",
        "print(f\"test: {test_counter}\")"
      ],
      "metadata": {
        "id": "kVKK0aR7Ile1"
      },
      "execution_count": null,
      "outputs": []
    },
    {
      "cell_type": "code",
      "source": [
        "def fill_eval_sets(population, num_samples, src_cls, dest_cls, set_type):\n",
        "    sample_idx = random.sample(range(population), num_samples)\n",
        "    folder_type = \"normal\" if src_cls == dest_cls else \"novel\"\n",
        "    cmd = \"mv -f\" if src_cls == dest_cls else \"cp\"\n",
        "    src_set = None\n",
        "    dest_set = None\n",
        "    if set_type == \"cv\":\n",
        "        src_set = \"train\"\n",
        "        dest_set = \"cv\"\n",
        "    elif set_type == \"test\":\n",
        "        src_set = \"categorized_test_cases\"\n",
        "        dest_set = \"test\"\n",
        "    else:\n",
        "        print(\"Wrong set type\")\n",
        "    for index in sample_idx:\n",
        "            os.system(f\"{cmd} {dataset_path}/{src_set}/{src_cls}/{src_cls}_{index}.png {dataset_path}/{dest_set}/{dest_cls}/{folder_type}\")\n",
        "\n",
        "if dataset == \"MVTec-AD\" and MVTecAD_set_type == \"new\":\n",
        "    for normal in range(num_total_classes):\n",
        "        os.system(f\"cp {dataset_path}/categorized_cv_cases/{normal}/* {dataset_path}/cv/{normal}/normal\")\n",
        "        os.system(f\"cp {dataset_path}/categorized_test_cases/{normal}/* {dataset_path}/test/{normal}/normal\")\n",
        "        for novel in range(num_total_classes):\n",
        "            if(novel == normal):\n",
        "                continue\n",
        "            os.system(f\"cp {dataset_path}/categorized_cv_cases/{novel}/* {dataset_path}/cv/{normal}/novel\")\n",
        "            os.system(f\"cp {dataset_path}/categorized_test_cases/{novel}/* {dataset_path}/test/{normal}/novel\")\n",
        "else:\n",
        "    for normal in range(num_total_classes):\n",
        "        random.seed(normal)\n",
        "        # cv normal\n",
        "        num_cv_samples = np.floor(train_counter[normal] * cv_weight).astype(int)\n",
        "        num_normal_cv_samples = np.floor(num_cv_samples * normal_weight).astype(int)\n",
        "        fill_eval_sets(train_counter[normal], num_normal_cv_samples, normal, normal, \"cv\") # fill the cv sets with some normal samples\n",
        "\n",
        "        # test normal\n",
        "        num_normal_test_samples = np.floor(test_counter[normal] * normal_weight).astype(int)\n",
        "        fill_eval_sets(test_counter[normal], num_normal_test_samples, normal, normal, \"test\") # fill the cv sets with some normal samples\n",
        "\n",
        "        num_novel_cv_from_each_class = np.floor((num_cv_samples - num_normal_cv_samples) / (num_total_classes - 1)).astype(int)\n",
        "        num_novel_test_from_each_class = np.floor((test_counter[normal] - num_normal_test_samples) / (num_total_classes - 1)).astype(int)\n",
        "        for novel in range(num_total_classes):\n",
        "            if(novel == normal):\n",
        "                continue\n",
        "            # cv novel\n",
        "            fill_eval_sets(train_counter[novel], num_novel_cv_from_each_class, novel, normal, \"cv\") # fill the cv sets with some novel samples\n",
        "            # test novel\n",
        "            fill_eval_sets(test_counter[novel], num_novel_test_from_each_class, novel, normal, \"test\") # fill the test sets with some novel samples"
      ],
      "metadata": {
        "id": "8aQoYj8RXWdE"
      },
      "execution_count": null,
      "outputs": []
    },
    {
      "cell_type": "code",
      "source": [
        "# train and testing\n",
        "%cd /home/novelty-detection-algorithms-evaluation\n",
        "!python main.py --mode train --data MNIST --model RD4AD"
      ],
      "metadata": {
        "id": "Z0FG2ET9Mp2w"
      },
      "execution_count": null,
      "outputs": []
    },
    {
      "cell_type": "code",
      "source": [
        "!python main.py --mode test --data MNIST --model RD4AD"
      ],
      "metadata": {
        "id": "Ad0-X0HACBmi"
      },
      "execution_count": null,
      "outputs": []
    }
  ]
}